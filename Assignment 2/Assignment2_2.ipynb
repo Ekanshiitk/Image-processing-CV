{
  "nbformat": 4,
  "nbformat_minor": 0,
  "metadata": {
    "colab": {
      "provenance": []
    },
    "kernelspec": {
      "name": "python3",
      "display_name": "Python 3"
    },
    "language_info": {
      "name": "python"
    }
  },
  "cells": [
    {
      "cell_type": "code",
      "execution_count": null,
      "metadata": {
        "id": "D9MMxtUVBvT1"
      },
      "outputs": [],
      "source": [
        "from PIL import Image, ImageDraw\n",
        "import numpy as np"
      ]
    },
    {
      "cell_type": "code",
      "source": [
        "image = Image.new(\"L\",(500,300), 0)\n",
        "draw = ImageDraw.Draw(image)"
      ],
      "metadata": {
        "id": "PbO58KXtEoyh"
      },
      "execution_count": null,
      "outputs": []
    },
    {
      "cell_type": "code",
      "source": [
        "number = int(input(56))\n",
        "last_two_digits = number % 100\n",
        "dig1 = last_two_digits//10\n",
        "dig2 = last_two_digits%10\n"
      ],
      "metadata": {
        "colab": {
          "base_uri": "https://localhost:8080/"
        },
        "id": "1AP0haJcCU4n",
        "outputId": "54dc781a-4c80-4f17-d9c7-abc3a4a01019"
      },
      "execution_count": null,
      "outputs": [
        {
          "name": "stdout",
          "output_type": "stream",
          "text": [
            "5669\n"
          ]
        }
      ]
    },
    {
      "cell_type": "code",
      "source": [
        "dot_matrix_patterns = {\n",
        "        \"0\": [\"111\", \"101\", \"101\", \"101\", \"111\"],\n",
        "        \"1\": [\"001\", \"001\", \"001\", \"001\", \"001\"],\n",
        "        \"2\": [\"111\", \"001\", \"111\", \"100\", \"111\"],\n",
        "        \"3\": [\"111\", \"001\", \"111\", \"001\", \"111\"],\n",
        "        \"4\": [\"101\", \"101\", \"111\", \"001\", \"001\"],\n",
        "        \"5\": [\"111\", \"100\", \"111\", \"001\", \"111\"],\n",
        "        \"6\": [\"111\", \"100\", \"111\", \"101\", \"111\"],\n",
        "        \"7\": [\"111\", \"001\", \"001\", \"001\", \"001\"],\n",
        "        \"8\": [\"111\", \"101\", \"111\", \"101\", \"111\"],\n",
        "        \"9\": [\"111\", \"101\", \"111\", \"001\", \"111\"]\n",
        "    }"
      ],
      "metadata": {
        "id": "MLlRVmgbCbu3"
      },
      "execution_count": null,
      "outputs": []
    },
    {
      "cell_type": "code",
      "source": [
        "#creating a matrix to be printed\n",
        "\n",
        "print_matrix = []\n",
        "for i in range(5):\n",
        "  print_matrix.append(dot_matrix_patterns[str(dig1)][i]+\"0\"+dot_matrix_patterns[str(dig2)][i])\n",
        "\n",
        "print(print_matrix)"
      ],
      "metadata": {
        "colab": {
          "base_uri": "https://localhost:8080/"
        },
        "id": "aPLa7FhCCxqB",
        "outputId": "17b4f46f-f7e9-4bc3-a211-ddeeef5598f8"
      },
      "execution_count": null,
      "outputs": [
        {
          "output_type": "stream",
          "name": "stdout",
          "text": [
            "['1110111', '1000101', '1110111', '1010001', '1110111']\n"
          ]
        }
      ]
    },
    {
      "cell_type": "code",
      "source": [
        "y = -55\n",
        "for i in range(5):\n",
        "    x=-50\n",
        "    y = y + 60\n",
        "    row = print_matrix[i]\n",
        "    print(row)\n",
        "    for j in range(7):\n",
        "        x = x + 68.75\n",
        "        if row[j] == '1':\n",
        "            draw.ellipse((x, y, x + 50, y + 50), fill=255)\n",
        "        else:\n",
        "            draw.ellipse((x, y, x + 50, y + 50), fill=0)\n"
      ],
      "metadata": {
        "colab": {
          "base_uri": "https://localhost:8080/"
        },
        "id": "dGf2Zug4UqBP",
        "outputId": "55bb71e2-4c0e-4c07-8d9f-11f721d9f391"
      },
      "execution_count": null,
      "outputs": [
        {
          "output_type": "stream",
          "name": "stdout",
          "text": [
            "1110111\n",
            "1000101\n",
            "1110111\n",
            "1010001\n",
            "1110111\n"
          ]
        }
      ]
    },
    {
      "cell_type": "code",
      "source": [
        "image.show('image')"
      ],
      "metadata": {
        "colab": {
          "base_uri": "https://localhost:8080/",
          "height": 317
        },
        "id": "q7Ry21hrZF4B",
        "outputId": "b869b3c8-f83d-4a62-f962-531fc9112ab4"
      },
      "execution_count": null,
      "outputs": [
        {
          "output_type": "display_data",
          "data": {
            "text/plain": [
              "<PIL.Image.Image image mode=L size=500x300 at 0x7DB508815BA0>"
            ],
            "image/png": "[encoded data removed]"
          },
          "metadata": {}
        }
      ]
    },
    {
      "cell_type": "code",
      "source": [],
      "metadata": {
        "id": "kpKHkC_Kea42"
      },
      "execution_count": null,
      "outputs": []
    }
  ]
}